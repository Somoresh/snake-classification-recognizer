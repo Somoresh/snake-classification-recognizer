{
  "nbformat": 4,
  "nbformat_minor": 0,
  "metadata": {
    "colab": {
      "provenance": []
    },
    "kernelspec": {
      "name": "python3",
      "display_name": "Python 3"
    },
    "language_info": {
      "name": "python"
    }
  },
  "cells": [
    {
      "cell_type": "markdown",
      "source": [
        "# Snake Classifier\n",
        "\n",
        "Can classify 13 different types od snakes\n",
        "The types are following:\n",
        "1. Python\n",
        "2. Rattle\n",
        "3. Cobra\n",
        "4. Anaconda\n",
        "5. Black Mamba\n",
        "6. King Cobra\n",
        "7. Coral Snake\n",
        "8. Water Snake\n",
        "9. Sea Snake\n",
        "10. Bushmaster\n",
        "11. Rat Snake\n",
        "12. Parot Snake\n",
        "13. Lora"
      ],
      "metadata": {
        "id": "Ndf26sXzOwZD"
      }
    },
    {
      "cell_type": "code",
      "execution_count": null,
      "metadata": {
        "id": "I4Qokf9tb7UP"
      },
      "outputs": [],
      "source": [
        "!pip install -Uqq fastai gradio nbdev"
      ]
    },
    {
      "cell_type": "code",
      "source": [
        "from google.colab import drive\n",
        "drive.mount('/content/drive')"
      ],
      "metadata": {
        "colab": {
          "base_uri": "https://localhost:8080/"
        },
        "id": "O6-6_K0QrO5I",
        "outputId": "1e6b110e-8149-4a77-9190-0f0a5ddadf19"
      },
      "execution_count": null,
      "outputs": [
        {
          "output_type": "stream",
          "name": "stdout",
          "text": [
            "Drive already mounted at /content/drive; to attempt to forcibly remount, call drive.mount(\"/content/drive\", force_remount=True).\n"
          ]
        }
      ]
    },
    {
      "cell_type": "code",
      "source": [
        "%cd /content/drive/My Drive/DataScience/Image_Recognizer/"
      ],
      "metadata": {
        "colab": {
          "base_uri": "https://localhost:8080/"
        },
        "id": "oYjYetwnr4cX",
        "outputId": "c4543c65-25b4-46fd-ae0d-c92fc91de43c"
      },
      "execution_count": null,
      "outputs": [
        {
          "output_type": "stream",
          "name": "stdout",
          "text": [
            "/content/drive/My Drive/DataScience/Image_Recognizer\n"
          ]
        }
      ]
    },
    {
      "cell_type": "code",
      "source": [
        "from fastai.vision.all import *"
      ],
      "metadata": {
        "id": "ngh9TvD1zLaz"
      },
      "execution_count": null,
      "outputs": []
    },
    {
      "cell_type": "code",
      "source": [
        "from fastai.vision.all import load_learner\n",
        "import gradio as gr"
      ],
      "metadata": {
        "id": "5JE_f_PccUUb"
      },
      "execution_count": null,
      "outputs": []
    },
    {
      "cell_type": "code",
      "source": [
        "model = load_learner('models/snake-recognizer-v1.pkl')"
      ],
      "metadata": {
        "id": "-_3Hef50dRSq"
      },
      "execution_count": null,
      "outputs": []
    },
    {
      "cell_type": "code",
      "source": [
        "snake_labels = {\n",
        "    \"Python\",\n",
        "    \"Rattle\",\n",
        "    \"Cobra\",\n",
        "    \"Anaconda\",\n",
        "    \"Black Mamba\",\n",
        "    \"King Cobra\",\n",
        "    \"Coral Snake\",\n",
        "    \"Water Snake\",\n",
        "    \"Sea Snake\",\n",
        "    \"Bushmaster\",\n",
        "    \"Rat Snake\",\n",
        "    \"Parot Snake\",\n",
        "    \"Lora\"\n",
        "\n",
        "\n",
        "}\n",
        "\n",
        "def recognize_image(image):\n",
        "  pred, idx, probs = model.predict(image)\n",
        "  print(pred, idx, probs)\n",
        "  return dict(zip(snake_labels, map(float, probs)))"
      ],
      "metadata": {
        "id": "jj-dm-AcsZef"
      },
      "execution_count": null,
      "outputs": []
    },
    {
      "cell_type": "code",
      "source": [
        "from PIL import Image\n",
        "img = Image.open(f'test_images/test_image10.jpg')\n",
        "img.to_thumb(150,150)"
      ],
      "metadata": {
        "colab": {
          "base_uri": "https://localhost:8080/",
          "height": 92
        },
        "id": "xUbJbhOysyLV",
        "outputId": "9315357c-e734-4e6f-b2e0-15ae02a26e6a"
      },
      "execution_count": null,
      "outputs": [
        {
          "output_type": "execute_result",
          "data": {
            "text/plain": [
              "<PIL.Image.Image image mode=RGB size=150x75>"
            ],
            "image/png": "[encoded data removed]"
          },
          "metadata": {},
          "execution_count": 33
        }
      ]
    },
    {
      "cell_type": "code",
      "source": [
        "recognize_image(img)"
      ],
      "metadata": {
        "colab": {
          "base_uri": "https://localhost:8080/",
          "height": 173
        },
        "id": "15xE8EvZtynu",
        "outputId": "417e6d75-dcfb-4144-ecf1-b7a1f6a5c848"
      },
      "execution_count": null,
      "outputs": [
        {
          "output_type": "display_data",
          "data": {
            "text/plain": [
              "<IPython.core.display.HTML object>"
            ],
            "text/html": [
              "\n",
              "<style>\n",
              "    /* Turns off some styling */\n",
              "    progress {\n",
              "        /* gets rid of default border in Firefox and Opera. */\n",
              "        border: none;\n",
              "        /* Needs to be in here for Safari polyfill so background images work as expected. */\n",
              "        background-size: auto;\n",
              "    }\n",
              "    progress:not([value]), progress:not([value])::-webkit-progress-bar {\n",
              "        background: repeating-linear-gradient(45deg, #7e7e7e, #7e7e7e 10px, #5c5c5c 10px, #5c5c5c 20px);\n",
              "    }\n",
              "    .progress-bar-interrupted, .progress-bar-interrupted::-webkit-progress-bar {\n",
              "        background: #F44336;\n",
              "    }\n",
              "</style>\n"
            ]
          },
          "metadata": {}
        },
        {
          "output_type": "display_data",
          "data": {
            "text/plain": [
              "<IPython.core.display.HTML object>"
            ],
            "text/html": []
          },
          "metadata": {}
        },
        {
          "output_type": "stream",
          "name": "stdout",
          "text": [
            "Black Mamba tensor(1) tensor([1.1414e-06, 9.9997e-01, 8.7718e-06, 5.6231e-08, 1.7922e-05, 1.5503e-07,\n",
            "        1.2717e-06])\n"
          ]
        },
        {
          "output_type": "execute_result",
          "data": {
            "text/plain": [
              "{'Parot Snake': 1.1413576430641115e-06,\n",
              " 'Coral Snake': 0.9999706745147705,\n",
              " 'King Cobra': 8.771793545747641e-06,\n",
              " 'Rat Snake': 5.623082799388612e-08,\n",
              " 'Black Mamba': 1.7922056940733455e-05,\n",
              " 'Lora': 1.5502763517361018e-07,\n",
              " 'Python': 1.2716709534288384e-06}"
            ]
          },
          "metadata": {},
          "execution_count": 34
        }
      ]
    },
    {
      "cell_type": "code",
      "source": [
        "image = gr.Image()\n",
        "label = gr.Label()\n",
        "examples = [\n",
        "\n",
        "    'test_images/test_image1.jpg',\n",
        "    'test_images/test_image2.jpg',\n",
        "    'test_images/test_image3.jpg',\n",
        "    'test_images/test_image4.jpg',\n",
        "    'test_images/test_image5.jpg',\n",
        "    'test_images/test_image6.jpg',\n",
        "    'test_images/test_image7.jpg',\n",
        "    'test_images/test_image8.jpg',\n",
        "    'test_images/test_image9.png',\n",
        "    'test_images/test_image10.jpg',\n",
        "    'test_images/test_image11.JPG',\n",
        "    'test_images/test_image12.jpg',\n",
        "\n",
        "    ]\n",
        "iface = gr.Interface(fn=recognize_image, inputs=image, outputs=label, examples=examples)\n",
        "iface.launch(inline=False, share=True)"
      ],
      "metadata": {
        "colab": {
          "base_uri": "https://localhost:8080/"
        },
        "id": "_M4Mniigv6qR",
        "outputId": "36db5568-94f1-44e4-8bd9-a80b40d91770"
      },
      "execution_count": null,
      "outputs": [
        {
          "output_type": "stream",
          "name": "stdout",
          "text": [
            "Colab notebook detected. To show errors in colab notebook, set debug=True in launch()\n",
            "Running on public URL: https://d9f5512512b9f1f21d.gradio.live\n",
            "\n",
            "This share link expires in 72 hours. For free permanent hosting and GPU upgrades, run `gradio deploy` from Terminal to deploy to Spaces (https://huggingface.co/spaces)\n"
          ]
        },
        {
          "output_type": "execute_result",
          "data": {
            "text/plain": []
          },
          "metadata": {},
          "execution_count": 35
        }
      ]
    },
    {
      "cell_type": "markdown",
      "source": [
        "# Notebook to Python Script"
      ],
      "metadata": {
        "id": "nS18A_UqXLUe"
      }
    },
    {
      "cell_type": "code",
      "source": [
        "from nbdev.export import notebook2script\n",
        "notebook2script(\"app.ipynb\")"
      ],
      "metadata": {
        "colab": {
          "base_uri": "https://localhost:8080/",
          "height": 331
        },
        "id": "exKDpGj1LaKz",
        "outputId": "6c0bae9f-86db-4722-f738-cf6719a5c08f"
      },
      "execution_count": null,
      "outputs": [
        {
          "output_type": "error",
          "ename": "ImportError",
          "evalue": "ignored",
          "traceback": [
            "\u001b[0;31m---------------------------------------------------------------------------\u001b[0m",
            "\u001b[0;31mImportError\u001b[0m                               Traceback (most recent call last)",
            "\u001b[0;32m<ipython-input-37-8fd48788eec7>\u001b[0m in \u001b[0;36m<cell line: 1>\u001b[0;34m()\u001b[0m\n\u001b[0;32m----> 1\u001b[0;31m \u001b[0;32mfrom\u001b[0m \u001b[0mnbdev\u001b[0m\u001b[0;34m.\u001b[0m\u001b[0mexport\u001b[0m \u001b[0;32mimport\u001b[0m \u001b[0mnotebook2script\u001b[0m\u001b[0;34m\u001b[0m\u001b[0;34m\u001b[0m\u001b[0m\n\u001b[0m\u001b[1;32m      2\u001b[0m \u001b[0mnotebook2script\u001b[0m\u001b[0;34m(\u001b[0m\u001b[0;34m\"app.ipynb\"\u001b[0m\u001b[0;34m)\u001b[0m\u001b[0;34m\u001b[0m\u001b[0;34m\u001b[0m\u001b[0m\n",
            "\u001b[0;31mImportError\u001b[0m: cannot import name 'notebook2script' from 'nbdev.export' (/usr/local/lib/python3.10/dist-packages/nbdev/export.py)",
            "",
            "\u001b[0;31m---------------------------------------------------------------------------\u001b[0;32m\nNOTE: If your import is failing due to a missing package, you can\nmanually install dependencies using either !pip or !apt.\n\nTo view examples of installing some common dependencies, click the\n\"Open Examples\" button below.\n\u001b[0;31m---------------------------------------------------------------------------\u001b[0m\n"
          ],
          "errorDetails": {
            "actions": [
              {
                "action": "open_url",
                "actionText": "Open Examples",
                "url": "/notebooks/snippets/importing_libraries.ipynb"
              }
            ]
          }
        }
      ]
    }
  ]
}